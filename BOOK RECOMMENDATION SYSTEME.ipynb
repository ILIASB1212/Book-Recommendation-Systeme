{
 "cells": [
  {
   "cell_type": "code",
   "execution_count": 1,
   "id": "0c067429-02fc-4db3-b818-219abff641e1",
   "metadata": {},
   "outputs": [],
   "source": [
    "def you_would_like(name):\n",
    "    import pandas as pd\n",
    "    import numpy as np\n",
    "    from sklearn.feature_extraction.text import TfidfVectorizer\n",
    "    from sklearn.metrics.pairwise import cosine_similarity\n",
    "    import difflib\n",
    "    try:\n",
    "        data=pd.read_csv(\"goodreads_data.csv\")\n",
    "        df=data.fillna(\" \")\n",
    "        df[\"combined_feature\"]=df[\"Author\"]+\" \"+df[\"Book\"]+\" \"+df[\"Description\"]+\" \"+df[\"Genres\"]\n",
    "        tfvc=TfidfVectorizer()\n",
    "        vectorise=tfvc.fit_transform(df[\"combined_feature\"])\n",
    "        similarity=cosine_similarity(vectorise)\n",
    "        your_book=name\n",
    "        list_of_book=df[\"Book\"].tolist()\n",
    "        close_match=difflib.get_close_matches(your_book,list_of_book)\n",
    "        very_close_match=close_match[0]\n",
    "        index_from_name=df[df.Book==very_close_match][\"Unnamed: 0\"].values[0]\n",
    "        enumirating=list(enumerate(similarity[index_from_name]))\n",
    "        sorted_movies=sorted(enumirating,key=lambda x:x[1],reverse=True)\n",
    "        i=1\n",
    "        for bok in sorted_movies:\n",
    "            index=bok[0]\n",
    "            title_from_index=df[df[\"Unnamed: 0\"]==index][\"Book\"].values[0]\n",
    "            print(f'{i}.{title_from_index}')\n",
    "            i+=1\n",
    "            if i==11:\n",
    "                break\n",
    "    except:\n",
    "        print(f\"their is no book like this {name}\")\n"
   ]
  },
  {
   "cell_type": "code",
   "execution_count": 2,
   "id": "d3c16fa2-6bbc-450a-822c-95678658d8a6",
   "metadata": {},
   "outputs": [
    {
     "name": "stdout",
     "output_type": "stream",
     "text": [
      "1.Money\n",
      "2.Daniel Martin\n",
      "3.Easy Money Management: A Give and Save 3-6-5 Approach to Personal Finance\n",
      "4.Your Money or Your Life\n",
      "5.The Catcher in the Rye\n",
      "6.The Creature from Jekyll Island: A Second Look at the Federal Reserve\n",
      "7.Rich Dad, Poor Dad\n",
      "8.The Total Money Makeover: A Proven Plan for Financial Fitness\n",
      "9.Success, Money and You: Everybody knows how to become a millionaire\n",
      "10.Secrets of the Millionaire Mind: Mastering the Inner Game of Wealth\n"
     ]
    }
   ],
   "source": [
    "you_would_like(\"money\")"
   ]
  },
  {
   "cell_type": "code",
   "execution_count": null,
   "id": "3b18d261-eff4-4c91-a410-32c32a288d3a",
   "metadata": {},
   "outputs": [],
   "source": []
  }
 ],
 "metadata": {
  "kernelspec": {
   "display_name": "Python 3 (ipykernel)",
   "language": "python",
   "name": "python3"
  },
  "language_info": {
   "codemirror_mode": {
    "name": "ipython",
    "version": 3
   },
   "file_extension": ".py",
   "mimetype": "text/x-python",
   "name": "python",
   "nbconvert_exporter": "python",
   "pygments_lexer": "ipython3",
   "version": "3.11.7"
  }
 },
 "nbformat": 4,
 "nbformat_minor": 5
}
